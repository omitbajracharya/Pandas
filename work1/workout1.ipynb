{
 "cells": [
  {
   "cell_type": "code",
   "execution_count": 1,
   "id": "8614f6eb",
   "metadata": {},
   "outputs": [],
   "source": [
    "import pandas as pd\n",
    "import numpy as np"
   ]
  },
  {
   "cell_type": "code",
   "execution_count": 2,
   "id": "5589df5b",
   "metadata": {
    "scrolled": true
   },
   "outputs": [
    {
     "data": {
      "text/html": [
       "<div>\n",
       "<style scoped>\n",
       "    .dataframe tbody tr th:only-of-type {\n",
       "        vertical-align: middle;\n",
       "    }\n",
       "\n",
       "    .dataframe tbody tr th {\n",
       "        vertical-align: top;\n",
       "    }\n",
       "\n",
       "    .dataframe thead th {\n",
       "        text-align: right;\n",
       "    }\n",
       "</style>\n",
       "<table border=\"1\" class=\"dataframe\">\n",
       "  <thead>\n",
       "    <tr style=\"text-align: right;\">\n",
       "      <th></th>\n",
       "      <th>Freq1</th>\n",
       "      <th>Property1</th>\n",
       "      <th>Freq2</th>\n",
       "      <th>Property2</th>\n",
       "      <th>Freq3</th>\n",
       "      <th>Property3</th>\n",
       "      <th>TOTAL\"C\"</th>\n",
       "      <th>TOTAL\"N\"</th>\n",
       "    </tr>\n",
       "    <tr>\n",
       "      <th>Date</th>\n",
       "      <th></th>\n",
       "      <th></th>\n",
       "      <th></th>\n",
       "      <th></th>\n",
       "      <th></th>\n",
       "      <th></th>\n",
       "      <th></th>\n",
       "      <th></th>\n",
       "    </tr>\n",
       "  </thead>\n",
       "  <tbody>\n",
       "    <tr>\n",
       "      <th>0</th>\n",
       "      <td>40</td>\n",
       "      <td>C</td>\n",
       "      <td>45</td>\n",
       "      <td>N</td>\n",
       "      <td>30</td>\n",
       "      <td>C</td>\n",
       "      <td>???</td>\n",
       "      <td>???</td>\n",
       "    </tr>\n",
       "    <tr>\n",
       "      <th>1</th>\n",
       "      <td>20</td>\n",
       "      <td>C</td>\n",
       "      <td>40</td>\n",
       "      <td>C</td>\n",
       "      <td>30</td>\n",
       "      <td>C</td>\n",
       "      <td>???</td>\n",
       "      <td>???</td>\n",
       "    </tr>\n",
       "    <tr>\n",
       "      <th>2</th>\n",
       "      <td>60</td>\n",
       "      <td>N</td>\n",
       "      <td>80</td>\n",
       "      <td>N</td>\n",
       "      <td>30</td>\n",
       "      <td>C</td>\n",
       "      <td>???</td>\n",
       "      <td>???</td>\n",
       "    </tr>\n",
       "    <tr>\n",
       "      <th>3</th>\n",
       "      <td>40</td>\n",
       "      <td>C</td>\n",
       "      <td>60</td>\n",
       "      <td>N</td>\n",
       "      <td>30</td>\n",
       "      <td>N</td>\n",
       "      <td>???</td>\n",
       "      <td>???</td>\n",
       "    </tr>\n",
       "  </tbody>\n",
       "</table>\n",
       "</div>"
      ],
      "text/plain": [
       "      Freq1 Property1  Freq2 Property2  Freq3 Property3 TOTAL\"C\" TOTAL\"N\"\n",
       "Date                                                                     \n",
       "0        40         C     45         N     30         C      ???      ???\n",
       "1        20         C     40         C     30         C      ???      ???\n",
       "2        60         N     80         N     30         C      ???      ???\n",
       "3        40         C     60         N     30         N      ???      ???"
      ]
     },
     "execution_count": 2,
     "metadata": {},
     "output_type": "execute_result"
    }
   ],
   "source": [
    "df=pd.read_csv('test1.csv',index_col=0)\n",
    "df.head()\n",
    "# df['TOTAL\"C\"']='???'\n",
    "# df['TOTAL\"N\"']='???'\n",
    "# print(df)"
   ]
  },
  {
   "cell_type": "code",
   "execution_count": 3,
   "id": "2b2493db",
   "metadata": {
    "scrolled": false
   },
   "outputs": [
    {
     "name": "stdout",
     "output_type": "stream",
     "text": [
      "Index(['Freq1', 'Property1', 'Freq2', 'Property2', 'Freq3', 'Property3',\n",
      "       'TOTAL\"C\"', 'TOTAL\"N\"'],\n",
      "      dtype='object')\n",
      "\n",
      " Date\n",
      "0     True\n",
      "1     True\n",
      "2    False\n",
      "3     True\n",
      "Name: Property1, dtype: bool\n"
     ]
    }
   ],
   "source": [
    "print(df.columns)\n",
    "print(\"\\n\",(df.Property1=='C'))\n",
    "df['TOTAL\"C\"']=df.Freq1 * (df.Property1=='C') + df.Freq2 * (df.Property2=='C') + df.Freq3 * (df.Property3=='C')\n",
    "df['TOTAL\"N\"']=df.Freq1 * (df.Property1=='N') + df.Freq2 * (df.Property2=='N') + df.Freq3 * (df.Property3=='N')"
   ]
  },
  {
   "cell_type": "code",
   "execution_count": 4,
   "id": "082a9d16",
   "metadata": {},
   "outputs": [
    {
     "data": {
      "text/html": [
       "<div>\n",
       "<style scoped>\n",
       "    .dataframe tbody tr th:only-of-type {\n",
       "        vertical-align: middle;\n",
       "    }\n",
       "\n",
       "    .dataframe tbody tr th {\n",
       "        vertical-align: top;\n",
       "    }\n",
       "\n",
       "    .dataframe thead th {\n",
       "        text-align: right;\n",
       "    }\n",
       "</style>\n",
       "<table border=\"1\" class=\"dataframe\">\n",
       "  <thead>\n",
       "    <tr style=\"text-align: right;\">\n",
       "      <th></th>\n",
       "      <th>Freq1</th>\n",
       "      <th>Property1</th>\n",
       "      <th>Freq2</th>\n",
       "      <th>Property2</th>\n",
       "      <th>Freq3</th>\n",
       "      <th>Property3</th>\n",
       "      <th>TOTAL\"C\"</th>\n",
       "      <th>TOTAL\"N\"</th>\n",
       "    </tr>\n",
       "    <tr>\n",
       "      <th>Date</th>\n",
       "      <th></th>\n",
       "      <th></th>\n",
       "      <th></th>\n",
       "      <th></th>\n",
       "      <th></th>\n",
       "      <th></th>\n",
       "      <th></th>\n",
       "      <th></th>\n",
       "    </tr>\n",
       "  </thead>\n",
       "  <tbody>\n",
       "    <tr>\n",
       "      <th>0</th>\n",
       "      <td>40</td>\n",
       "      <td>C</td>\n",
       "      <td>45</td>\n",
       "      <td>N</td>\n",
       "      <td>30</td>\n",
       "      <td>C</td>\n",
       "      <td>70</td>\n",
       "      <td>45</td>\n",
       "    </tr>\n",
       "    <tr>\n",
       "      <th>1</th>\n",
       "      <td>20</td>\n",
       "      <td>C</td>\n",
       "      <td>40</td>\n",
       "      <td>C</td>\n",
       "      <td>30</td>\n",
       "      <td>C</td>\n",
       "      <td>90</td>\n",
       "      <td>0</td>\n",
       "    </tr>\n",
       "    <tr>\n",
       "      <th>2</th>\n",
       "      <td>60</td>\n",
       "      <td>N</td>\n",
       "      <td>80</td>\n",
       "      <td>N</td>\n",
       "      <td>30</td>\n",
       "      <td>C</td>\n",
       "      <td>30</td>\n",
       "      <td>140</td>\n",
       "    </tr>\n",
       "    <tr>\n",
       "      <th>3</th>\n",
       "      <td>40</td>\n",
       "      <td>C</td>\n",
       "      <td>60</td>\n",
       "      <td>N</td>\n",
       "      <td>30</td>\n",
       "      <td>N</td>\n",
       "      <td>40</td>\n",
       "      <td>90</td>\n",
       "    </tr>\n",
       "  </tbody>\n",
       "</table>\n",
       "</div>"
      ],
      "text/plain": [
       "      Freq1 Property1  Freq2 Property2  Freq3 Property3  TOTAL\"C\"  TOTAL\"N\"\n",
       "Date                                                                       \n",
       "0        40         C     45         N     30         C        70        45\n",
       "1        20         C     40         C     30         C        90         0\n",
       "2        60         N     80         N     30         C        30       140\n",
       "3        40         C     60         N     30         N        40        90"
      ]
     },
     "execution_count": 4,
     "metadata": {},
     "output_type": "execute_result"
    }
   ],
   "source": [
    "df.head()"
   ]
  },
  {
   "cell_type": "code",
   "execution_count": 5,
   "id": "315e3be7",
   "metadata": {
    "scrolled": true
   },
   "outputs": [
    {
     "name": "stdout",
     "output_type": "stream",
     "text": [
      "props: ['Property1', 'Property2', 'Property3']\n",
      "freqs ['Freq1', 'Freq2', 'Freq3']\n"
     ]
    }
   ],
   "source": [
    "######### build list of column groups\n",
    "## print(df.columns)\n",
    "props=[c for c in df.columns if \"Property\" in c]\n",
    "freqs=[c for c in df.columns if \"F\" in c]\n",
    "print(\"props:\",props)\n",
    "print(\"freqs\",freqs)\n"
   ]
  },
  {
   "cell_type": "code",
   "execution_count": 6,
   "id": "f143159e",
   "metadata": {
    "scrolled": true
   },
   "outputs": [
    {
     "name": "stdout",
     "output_type": "stream",
     "text": [
      "val1: [[40 45 30]\n",
      " [20 40 30]\n",
      " [60 80 30]\n",
      " [40 60 30]] <class 'numpy.ndarray'>\n",
      "val2: [[ True False  True]\n",
      " [ True  True  True]\n",
      " [False False  True]\n",
      " [ True False False]] <class 'numpy.ndarray'>\n",
      "val3: [[40  0 30]\n",
      " [20 40 30]\n",
      " [ 0  0 30]\n",
      " [40  0  0]] <class 'numpy.ndarray'>\n",
      "val4: [70 90 30 40] <class 'numpy.ndarray'>\n"
     ]
    }
   ],
   "source": [
    "val1=df[freqs].values\n",
    "val2=(df[props]==\"C\").values\n",
    "###print(df[props].values)\n",
    "print(\"val1:\",val1,type(val1))\n",
    "print(\"val2:\",val2,type(val2))\n",
    "val3=val1*val2\n",
    "print(\"val3:\",val3,type(val3))\n",
    "val4=val3.sum(axis=1)\n",
    "print(\"val4:\",val4,type(val4))"
   ]
  },
  {
   "cell_type": "code",
   "execution_count": 7,
   "id": "87219879",
   "metadata": {},
   "outputs": [
    {
     "name": "stdout",
     "output_type": "stream",
     "text": [
      "[[ 9 16 21]\n",
      " [24 25 24]\n",
      " [ 6 16  9]]\n"
     ]
    }
   ],
   "source": [
    "import numpy as np\n",
    "#Multiplication:-\n",
    "#1 2 3     9 8 7      9  16 21\n",
    "#4 5 6  *  6 5 4  =>  24 25 24\n",
    "#2 8 9     3 2 1      6  16 9\n",
    "\n",
    "array1=np.array([[1,2,3],[4,5,6],[2,8,9]])  \n",
    "array2=np.array([[9,8,7],[6,5,4],[3,2,1]])  \n",
    "# print(np.multiply(array1,array2))\n",
    "print(array1*array2)"
   ]
  },
  {
   "cell_type": "code",
   "execution_count": 8,
   "id": "1de32bff",
   "metadata": {
    "scrolled": false
   },
   "outputs": [
    {
     "name": "stdout",
     "output_type": "stream",
     "text": [
      "freqValue:\n",
      " [[40 45 30]\n",
      " [20 40 30]\n",
      " [60 80 30]\n",
      " [40 60 30]]\n",
      "property==c:\n",
      " [[ True False  True]\n",
      " [ True  True  True]\n",
      " [False False  True]\n",
      " [ True False False]]\n",
      "      Freq1 Property1  Freq2 Property2  Freq3 Property3  TOTAL\"C\"  TOTAL\"N\"\n",
      "Date                                                                       \n",
      "0        40         C     45         N     30         C        70        45\n",
      "1        20         C     40         C     30         C        90         0\n",
      "2        60         N     80         N     30         C        30       140\n",
      "3        40         C     60         N     30         N        40        90\n"
     ]
    }
   ],
   "source": [
    "props=[c for c in df.columns if \"Property\" in c]\n",
    "freqs=[c for c in df.columns if \"F\" in c]\n",
    "print(\"freqValue:\\n\",df[freqs].values)\n",
    "print(\"property==c:\\n\",(df[props]==\"C\").values)\n",
    "df[\"TOTAL\\\"C\\\"\"] = (df[freqs].values*(df[props]==\"C\").values).sum(axis=1)\n",
    "df[\"TOTAL\\\"N\\\"\"] = (df[freqs].values*(df[props]==\"N\").values).sum(axis=1)\n",
    "print(df)"
   ]
  },
  {
   "cell_type": "code",
   "execution_count": 11,
   "id": "64b1a535",
   "metadata": {
    "scrolled": true
   },
   "outputs": [
    {
     "name": "stdout",
     "output_type": "stream",
     "text": [
      "[5 8]\n",
      "[4 9]\n",
      "13\n"
     ]
    }
   ],
   "source": [
    "#some numpy:\n",
    "a=np.array([[1,4],[3,5]])  \n",
    "b=np.sum(a,axis=1)  \n",
    "c=a.sum(axis=0)\n",
    "print(b)\n",
    "print(c)\n",
    "# b  ===>array(5,8)\n",
    "# i.e.\n",
    "# 1 4  ->5\n",
    "# 3 5  ->8\n",
    "p=np.array([[1,4],[3,5]])  \n",
    "q=np.sum(p)\n",
    "print(q)\n",
    "# b  ===>13"
   ]
  }
 ],
 "metadata": {
  "kernelspec": {
   "display_name": "Python 3 (ipykernel)",
   "language": "python",
   "name": "python3"
  },
  "language_info": {
   "codemirror_mode": {
    "name": "ipython",
    "version": 3
   },
   "file_extension": ".py",
   "mimetype": "text/x-python",
   "name": "python",
   "nbconvert_exporter": "python",
   "pygments_lexer": "ipython3",
   "version": "3.10.2"
  }
 },
 "nbformat": 4,
 "nbformat_minor": 5
}
