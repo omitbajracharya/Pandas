{
 "cells": [
  {
   "cell_type": "code",
   "execution_count": 1,
   "id": "30fa8cf4",
   "metadata": {},
   "outputs": [],
   "source": [
    "import pandas as pd\n",
    "import numpy as np"
   ]
  },
  {
   "cell_type": "code",
   "execution_count": 3,
   "id": "57286607",
   "metadata": {
    "scrolled": true
   },
   "outputs": [
    {
     "name": "stdout",
     "output_type": "stream",
     "text": [
      "           phone      mobile             datetime  duration  RID  \\\n",
      "0  9779882227889  9869222181  2022-01-19 09:50:29        23  337   \n",
      "1  9779882220464  9863222738  2022-01-19 09:50:12        41  337   \n",
      "2  9779612221098  9803222285  2022-01-19 09:50:10        44  339   \n",
      "3  9779882220984  9821222104  2022-01-19 09:48:55       119  339   \n",
      "4  9779882226136  9841222831  2022-01-19 09:50:18        37  337   \n",
      "5  9779882221087  9860222859  2022-01-19 09:46:28       268  337   \n",
      "\n",
      "         phone_c  amount1  amount2  amount3  totalamount  \n",
      "0  9779885222889       96      2.0      2.0        100.0  \n",
      "1  9779884222464       50      5.1      0.0         55.1  \n",
      "2  9779616222098      160      0.0      1.0        161.0  \n",
      "3  9779882220984      228      0.0      0.0        228.0  \n",
      "4  9779880222136      128      0.0      0.0        128.0  \n",
      "5  9779882221087      864      0.0      0.0        864.0  \n"
     ]
    }
   ],
   "source": [
    "data=pd.read_csv('test.csv')\n",
    "# print(data)\n",
    "# data['totalamount']='???'\n",
    "data['totalamount']=data['amount1']+data['amount2']+data['amount3']\n",
    "print(data)"
   ]
  },
  {
   "cell_type": "code",
   "execution_count": 14,
   "id": "874808d5",
   "metadata": {
    "scrolled": true
   },
   "outputs": [
    {
     "name": "stdout",
     "output_type": "stream",
     "text": [
      "           phone      mobile             datetime  duration  RID  \\\n",
      "a  9779882227889  9869222181  2022-01-19 09:50:29        23  337   \n",
      "b  9779882220464  9863222738  2022-01-19 09:50:12        41  337   \n",
      "c  9779612221098  9803222285  2022-01-19 09:50:10        44  339   \n",
      "d  9779882220984  9821222104  2022-01-19 09:48:55       119  339   \n",
      "e  9779882226136  9841222831  2022-01-19 09:50:18        37  337   \n",
      "f  9779882221087  9860222859  2022-01-19 09:46:28       268  337   \n",
      "\n",
      "         phone_c  amount1  amount2  amount3  totalamount  \n",
      "a  9779885222889       96      2.0      2.0        100.0  \n",
      "b  9779884222464       50      5.1      0.0          NaN  \n",
      "c  9779616222098      160      0.0      1.0        161.0  \n",
      "d  9779882220984      228      0.0      0.0          NaN  \n",
      "e  9779880222136      128      0.0      0.0          NaN  \n",
      "f  9779882221087      864      0.0      0.0          NaN  \n",
      "type amount1: <class 'pandas.core.series.Series'>\n"
     ]
    }
   ],
   "source": [
    "data=pd.read_csv('test.csv')\n",
    "data.index=['a','b','c','d','e','f']\n",
    "# data.loc['a':'c','totalamount']=data.loc['a':'c','amount1']+data.loc['a':'c','amount2']+data.loc['a':'c','amount3']\n",
    "data.loc[['a','c'],'totalamount']=data.loc[['a','c'],'amount1']+data.loc[['a','c'],'amount2']+data.loc[['a','c'],'amount3']\n",
    "print(data)\n",
    "print(\"type amount1:\",type(data['amount1']))"
   ]
  },
  {
   "cell_type": "code",
   "execution_count": 15,
   "id": "b320ffd2",
   "metadata": {},
   "outputs": [],
   "source": [
    " # Save total amount to original CSV file \n",
    "data.to_csv('test.csv')"
   ]
  },
  {
   "cell_type": "code",
   "execution_count": 27,
   "id": "e69c1ec0",
   "metadata": {
    "scrolled": true
   },
   "outputs": [
    {
     "name": "stdout",
     "output_type": "stream",
     "text": [
      "<class 'pandas.core.frame.DataFrame'>\n",
      "   amount1  amount2  amount3  totalamount\n",
      "a       96      2.0      2.0        100.0\n",
      "b       50      5.1      0.0         55.1\n",
      "c      160      0.0      1.0        161.0\n",
      "d      228      0.0      0.0        228.0\n",
      "e      128      0.0      0.0        128.0\n",
      "f      864      0.0      0.0        864.0\n"
     ]
    }
   ],
   "source": [
    "# Other idea to sum:\n",
    "data=pd.read_csv('test.csv',index_col=0)\n",
    "print(type(data[['amount1','amount2','amount3']]))\n",
    "data['totalamount']=data[['amount1','amount2','amount3']].sum(axis=1)\n",
    "print(data.loc[:,'amount1':])"
   ]
  },
  {
   "cell_type": "code",
   "execution_count": 28,
   "id": "1cee0fc3",
   "metadata": {},
   "outputs": [
    {
     "name": "stdout",
     "output_type": "stream",
     "text": [
      "  Unnamed: 0          phone      mobile             datetime  duration  RID  \\\n",
      "a          a  9779882227889  9869222181  2022-01-19 09:50:29        23  337   \n",
      "b          b  9779882220464  9863222738  2022-01-19 09:50:12        41  337   \n",
      "c          c  9779612221098  9803222285  2022-01-19 09:50:10        44  339   \n",
      "d          d  9779882220984  9821222104  2022-01-19 09:48:55       119  339   \n",
      "e          e  9779882226136  9841222831  2022-01-19 09:50:18        37  337   \n",
      "f          f  9779882221087  9860222859  2022-01-19 09:46:28       268  337   \n",
      "\n",
      "         phone_c  amount1  amount2  amount3  totalamount  \n",
      "a  9779885222889       96      2.0      2.0          NaN  \n",
      "b  9779884222464       50      5.1      0.0          NaN  \n",
      "c  9779616222098      160      0.0      1.0          NaN  \n",
      "d  9779882220984      228      0.0      0.0          NaN  \n",
      "e  9779880222136      128      0.0      0.0          NaN  \n",
      "f  9779882221087      864      0.0      0.0          NaN  \n"
     ]
    },
    {
     "name": "stderr",
     "output_type": "stream",
     "text": [
      "C:\\Users\\Omit\\AppData\\Local\\Temp\\ipykernel_9632\\1075264005.py:5: FutureWarning: Slicing a positional slice with .loc is not supported, and will raise TypeError in a future version.  Use .loc with labels or .iloc with positions instead.\n",
      "  data.loc[0:3,'totalamount']=data.loc[:,'amount1']+data.loc[:,'amount2']+data.loc[:,'amount3']\n"
     ]
    }
   ],
   "source": [
    "data=pd.read_csv('test.csv')\n",
    "data.index=['a','b','c','d','e','f']\n",
    "data['totalamount']=np.NaN\n",
    "print(data)"
   ]
  },
  {
   "cell_type": "code",
   "execution_count": 32,
   "id": "69f09a07",
   "metadata": {},
   "outputs": [
    {
     "name": "stdout",
     "output_type": "stream",
     "text": [
      "  Unnamed: 0          phone      mobile             datetime  duration  RID  \\\n",
      "0          a  9779882227889  9869222181  2022-01-19 09:50:29        23  337   \n",
      "1          b  9779882220464  9863222738  2022-01-19 09:50:12        41  337   \n",
      "2          c  9779612221098  9803222285  2022-01-19 09:50:10        44  339   \n",
      "3          d  9779882220984  9821222104  2022-01-19 09:48:55       119  339   \n",
      "4          e  9779882226136  9841222831  2022-01-19 09:50:18        37  337   \n",
      "5          f  9779882221087  9860222859  2022-01-19 09:46:28       268  337   \n",
      "\n",
      "         phone_c  amount1  amount2  amount3  totalamount  \n",
      "0  9779885222889       96      2.0      2.0        100.0  \n",
      "1  9779884222464       50      5.1      0.0         60.2  \n",
      "2  9779616222098      160      0.0      1.0        160.0  \n",
      "3  9779882220984      228      0.0      0.0        228.0  \n",
      "4  9779880222136      128      0.0      0.0        128.0  \n",
      "5  9779882221087      864      0.0      0.0        864.0  \n"
     ]
    }
   ],
   "source": [
    "data['totalamount']=np.NaN\n",
    "data=pd.read_csv('test.csv')\n",
    "data.loc[0:3,'totalamount']=data.loc[:,'amount1']+data.loc[:,'amount2']+data.loc[:,'amount3']\n",
    "data.iloc[3:,10]=data.iloc[3:,6]+data.iloc[3:,7]+data.iloc[3:,8]\n",
    "# data.iloc[:2,9]=data.iloc[:2,6]+data.iloc[:2,7]+data.iloc[:2,8]\n",
    "data['totalamount']=data['amount1']+data['amount2']+data['amount2']\n",
    "print(data)"
   ]
  }
 ],
 "metadata": {
  "kernelspec": {
   "display_name": "Python 3 (ipykernel)",
   "language": "python",
   "name": "python3"
  },
  "language_info": {
   "codemirror_mode": {
    "name": "ipython",
    "version": 3
   },
   "file_extension": ".py",
   "mimetype": "text/x-python",
   "name": "python",
   "nbconvert_exporter": "python",
   "pygments_lexer": "ipython3",
   "version": "3.10.2"
  }
 },
 "nbformat": 4,
 "nbformat_minor": 5
}
